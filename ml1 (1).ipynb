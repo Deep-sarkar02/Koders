{
  "cells": [
    {
      "cell_type": "code",
      "execution_count": 54,
      "id": "aaedf013-3d15-4b9b-8b46-6435a7ef621e",
      "metadata": {
        "id": "aaedf013-3d15-4b9b-8b46-6435a7ef621e"
      },
      "outputs": [],
      "source": [
        "import pandas as pd"
      ]
    },
    {
      "cell_type": "code",
      "source": [
        "from google.colab import drive\n",
        "drive.mount('/content/drive')"
      ],
      "metadata": {
        "colab": {
          "base_uri": "https://localhost:8080/"
        },
        "id": "Jg0BW4ABN1qF",
        "outputId": "40a7cc7f-2415-4833-ebc4-caccbd66f0eb"
      },
      "id": "Jg0BW4ABN1qF",
      "execution_count": 55,
      "outputs": [
        {
          "output_type": "stream",
          "name": "stdout",
          "text": [
            "Drive already mounted at /content/drive; to attempt to forcibly remount, call drive.mount(\"/content/drive\", force_remount=True).\n"
          ]
        }
      ]
    },
    {
      "cell_type": "code",
      "execution_count": 56,
      "id": "4c7a5792-5f40-4233-bb6e-2450676a7b14",
      "metadata": {
        "id": "4c7a5792-5f40-4233-bb6e-2450676a7b14"
      },
      "outputs": [],
      "source": [
        "df = pd.read_csv(\"/content/drive/MyDrive/IIT hackfest/train.csv\")"
      ]
    },
    {
      "cell_type": "code",
      "execution_count": 57,
      "id": "064d6c25-75b0-44b7-8031-79fe2b08d44f",
      "metadata": {
        "colab": {
          "base_uri": "https://localhost:8080/",
          "height": 290
        },
        "id": "064d6c25-75b0-44b7-8031-79fe2b08d44f",
        "outputId": "8a0445e4-9041-4ed6-b029-661daa305f2b"
      },
      "outputs": [
        {
          "output_type": "execute_result",
          "data": {
            "text/plain": [
              "   estimated_stock_pct  quantity  temperature  unit_price  \\\n",
              "0                0.890         3    -0.028850       11.19   \n",
              "1                0.990         0     0.173773        3.19   \n",
              "2                0.980         1     0.173773        8.99   \n",
              "3                0.660         0     0.173773       19.19   \n",
              "4                0.345         0     0.173773       15.49   \n",
              "\n",
              "   timestamp_day_of_month  timestamp_day_of_week  timestamp_hour  \\\n",
              "0                       1                      1               9   \n",
              "1                       5                      5               9   \n",
              "2                       5                      5               9   \n",
              "3                       5                      5               9   \n",
              "4                       5                      5               9   \n",
              "\n",
              "   category_baby products  category_baked goods  category_baking  ...  \\\n",
              "0                   False                 False            False  ...   \n",
              "1                   False                 False            False  ...   \n",
              "2                   False                 False            False  ...   \n",
              "3                   False                 False            False  ...   \n",
              "4                   False                 False            False  ...   \n",
              "\n",
              "   category_snacks  category_spices and herbs  category_vegetables  \\\n",
              "0            False                      False                False   \n",
              "1             True                      False                False   \n",
              "2            False                      False                False   \n",
              "3            False                      False                False   \n",
              "4            False                      False                False   \n",
              "\n",
              "   sales_revenue  market_share            product_category  timestamp  \\\n",
              "0          33.57      0.000437            category_kitchen    00:00.0   \n",
              "1           0.00      0.000000             category_snacks    00:00.0   \n",
              "2           8.99      0.000117  category_cleaning products    00:00.0   \n",
              "3           0.00      0.000000            category_seafood    00:00.0   \n",
              "4           0.00      0.000000            category_kitchen    00:00.0   \n",
              "\n",
              "   growth_rate  packaging  branding  \n",
              "0          NaN          0         0  \n",
              "1          NaN          0         0  \n",
              "2          NaN          0         0  \n",
              "3          NaN          0         0  \n",
              "4         -1.0          0         0  \n",
              "\n",
              "[5 rows x 36 columns]"
            ],
            "text/html": [
              "\n",
              "  <div id=\"df-1a89f2db-cc42-44fe-a50d-7ff2fa44f05c\" class=\"colab-df-container\">\n",
              "    <div>\n",
              "<style scoped>\n",
              "    .dataframe tbody tr th:only-of-type {\n",
              "        vertical-align: middle;\n",
              "    }\n",
              "\n",
              "    .dataframe tbody tr th {\n",
              "        vertical-align: top;\n",
              "    }\n",
              "\n",
              "    .dataframe thead th {\n",
              "        text-align: right;\n",
              "    }\n",
              "</style>\n",
              "<table border=\"1\" class=\"dataframe\">\n",
              "  <thead>\n",
              "    <tr style=\"text-align: right;\">\n",
              "      <th></th>\n",
              "      <th>estimated_stock_pct</th>\n",
              "      <th>quantity</th>\n",
              "      <th>temperature</th>\n",
              "      <th>unit_price</th>\n",
              "      <th>timestamp_day_of_month</th>\n",
              "      <th>timestamp_day_of_week</th>\n",
              "      <th>timestamp_hour</th>\n",
              "      <th>category_baby products</th>\n",
              "      <th>category_baked goods</th>\n",
              "      <th>category_baking</th>\n",
              "      <th>...</th>\n",
              "      <th>category_snacks</th>\n",
              "      <th>category_spices and herbs</th>\n",
              "      <th>category_vegetables</th>\n",
              "      <th>sales_revenue</th>\n",
              "      <th>market_share</th>\n",
              "      <th>product_category</th>\n",
              "      <th>timestamp</th>\n",
              "      <th>growth_rate</th>\n",
              "      <th>packaging</th>\n",
              "      <th>branding</th>\n",
              "    </tr>\n",
              "  </thead>\n",
              "  <tbody>\n",
              "    <tr>\n",
              "      <th>0</th>\n",
              "      <td>0.890</td>\n",
              "      <td>3</td>\n",
              "      <td>-0.028850</td>\n",
              "      <td>11.19</td>\n",
              "      <td>1</td>\n",
              "      <td>1</td>\n",
              "      <td>9</td>\n",
              "      <td>False</td>\n",
              "      <td>False</td>\n",
              "      <td>False</td>\n",
              "      <td>...</td>\n",
              "      <td>False</td>\n",
              "      <td>False</td>\n",
              "      <td>False</td>\n",
              "      <td>33.57</td>\n",
              "      <td>0.000437</td>\n",
              "      <td>category_kitchen</td>\n",
              "      <td>00:00.0</td>\n",
              "      <td>NaN</td>\n",
              "      <td>0</td>\n",
              "      <td>0</td>\n",
              "    </tr>\n",
              "    <tr>\n",
              "      <th>1</th>\n",
              "      <td>0.990</td>\n",
              "      <td>0</td>\n",
              "      <td>0.173773</td>\n",
              "      <td>3.19</td>\n",
              "      <td>5</td>\n",
              "      <td>5</td>\n",
              "      <td>9</td>\n",
              "      <td>False</td>\n",
              "      <td>False</td>\n",
              "      <td>False</td>\n",
              "      <td>...</td>\n",
              "      <td>True</td>\n",
              "      <td>False</td>\n",
              "      <td>False</td>\n",
              "      <td>0.00</td>\n",
              "      <td>0.000000</td>\n",
              "      <td>category_snacks</td>\n",
              "      <td>00:00.0</td>\n",
              "      <td>NaN</td>\n",
              "      <td>0</td>\n",
              "      <td>0</td>\n",
              "    </tr>\n",
              "    <tr>\n",
              "      <th>2</th>\n",
              "      <td>0.980</td>\n",
              "      <td>1</td>\n",
              "      <td>0.173773</td>\n",
              "      <td>8.99</td>\n",
              "      <td>5</td>\n",
              "      <td>5</td>\n",
              "      <td>9</td>\n",
              "      <td>False</td>\n",
              "      <td>False</td>\n",
              "      <td>False</td>\n",
              "      <td>...</td>\n",
              "      <td>False</td>\n",
              "      <td>False</td>\n",
              "      <td>False</td>\n",
              "      <td>8.99</td>\n",
              "      <td>0.000117</td>\n",
              "      <td>category_cleaning products</td>\n",
              "      <td>00:00.0</td>\n",
              "      <td>NaN</td>\n",
              "      <td>0</td>\n",
              "      <td>0</td>\n",
              "    </tr>\n",
              "    <tr>\n",
              "      <th>3</th>\n",
              "      <td>0.660</td>\n",
              "      <td>0</td>\n",
              "      <td>0.173773</td>\n",
              "      <td>19.19</td>\n",
              "      <td>5</td>\n",
              "      <td>5</td>\n",
              "      <td>9</td>\n",
              "      <td>False</td>\n",
              "      <td>False</td>\n",
              "      <td>False</td>\n",
              "      <td>...</td>\n",
              "      <td>False</td>\n",
              "      <td>False</td>\n",
              "      <td>False</td>\n",
              "      <td>0.00</td>\n",
              "      <td>0.000000</td>\n",
              "      <td>category_seafood</td>\n",
              "      <td>00:00.0</td>\n",
              "      <td>NaN</td>\n",
              "      <td>0</td>\n",
              "      <td>0</td>\n",
              "    </tr>\n",
              "    <tr>\n",
              "      <th>4</th>\n",
              "      <td>0.345</td>\n",
              "      <td>0</td>\n",
              "      <td>0.173773</td>\n",
              "      <td>15.49</td>\n",
              "      <td>5</td>\n",
              "      <td>5</td>\n",
              "      <td>9</td>\n",
              "      <td>False</td>\n",
              "      <td>False</td>\n",
              "      <td>False</td>\n",
              "      <td>...</td>\n",
              "      <td>False</td>\n",
              "      <td>False</td>\n",
              "      <td>False</td>\n",
              "      <td>0.00</td>\n",
              "      <td>0.000000</td>\n",
              "      <td>category_kitchen</td>\n",
              "      <td>00:00.0</td>\n",
              "      <td>-1.0</td>\n",
              "      <td>0</td>\n",
              "      <td>0</td>\n",
              "    </tr>\n",
              "  </tbody>\n",
              "</table>\n",
              "<p>5 rows × 36 columns</p>\n",
              "</div>\n",
              "    <div class=\"colab-df-buttons\">\n",
              "\n",
              "  <div class=\"colab-df-container\">\n",
              "    <button class=\"colab-df-convert\" onclick=\"convertToInteractive('df-1a89f2db-cc42-44fe-a50d-7ff2fa44f05c')\"\n",
              "            title=\"Convert this dataframe to an interactive table.\"\n",
              "            style=\"display:none;\">\n",
              "\n",
              "  <svg xmlns=\"http://www.w3.org/2000/svg\" height=\"24px\" viewBox=\"0 -960 960 960\">\n",
              "    <path d=\"M120-120v-720h720v720H120Zm60-500h600v-160H180v160Zm220 220h160v-160H400v160Zm0 220h160v-160H400v160ZM180-400h160v-160H180v160Zm440 0h160v-160H620v160ZM180-180h160v-160H180v160Zm440 0h160v-160H620v160Z\"/>\n",
              "  </svg>\n",
              "    </button>\n",
              "\n",
              "  <style>\n",
              "    .colab-df-container {\n",
              "      display:flex;\n",
              "      gap: 12px;\n",
              "    }\n",
              "\n",
              "    .colab-df-convert {\n",
              "      background-color: #E8F0FE;\n",
              "      border: none;\n",
              "      border-radius: 50%;\n",
              "      cursor: pointer;\n",
              "      display: none;\n",
              "      fill: #1967D2;\n",
              "      height: 32px;\n",
              "      padding: 0 0 0 0;\n",
              "      width: 32px;\n",
              "    }\n",
              "\n",
              "    .colab-df-convert:hover {\n",
              "      background-color: #E2EBFA;\n",
              "      box-shadow: 0px 1px 2px rgba(60, 64, 67, 0.3), 0px 1px 3px 1px rgba(60, 64, 67, 0.15);\n",
              "      fill: #174EA6;\n",
              "    }\n",
              "\n",
              "    .colab-df-buttons div {\n",
              "      margin-bottom: 4px;\n",
              "    }\n",
              "\n",
              "    [theme=dark] .colab-df-convert {\n",
              "      background-color: #3B4455;\n",
              "      fill: #D2E3FC;\n",
              "    }\n",
              "\n",
              "    [theme=dark] .colab-df-convert:hover {\n",
              "      background-color: #434B5C;\n",
              "      box-shadow: 0px 1px 3px 1px rgba(0, 0, 0, 0.15);\n",
              "      filter: drop-shadow(0px 1px 2px rgba(0, 0, 0, 0.3));\n",
              "      fill: #FFFFFF;\n",
              "    }\n",
              "  </style>\n",
              "\n",
              "    <script>\n",
              "      const buttonEl =\n",
              "        document.querySelector('#df-1a89f2db-cc42-44fe-a50d-7ff2fa44f05c button.colab-df-convert');\n",
              "      buttonEl.style.display =\n",
              "        google.colab.kernel.accessAllowed ? 'block' : 'none';\n",
              "\n",
              "      async function convertToInteractive(key) {\n",
              "        const element = document.querySelector('#df-1a89f2db-cc42-44fe-a50d-7ff2fa44f05c');\n",
              "        const dataTable =\n",
              "          await google.colab.kernel.invokeFunction('convertToInteractive',\n",
              "                                                    [key], {});\n",
              "        if (!dataTable) return;\n",
              "\n",
              "        const docLinkHtml = 'Like what you see? Visit the ' +\n",
              "          '<a target=\"_blank\" href=https://colab.research.google.com/notebooks/data_table.ipynb>data table notebook</a>'\n",
              "          + ' to learn more about interactive tables.';\n",
              "        element.innerHTML = '';\n",
              "        dataTable['output_type'] = 'display_data';\n",
              "        await google.colab.output.renderOutput(dataTable, element);\n",
              "        const docLink = document.createElement('div');\n",
              "        docLink.innerHTML = docLinkHtml;\n",
              "        element.appendChild(docLink);\n",
              "      }\n",
              "    </script>\n",
              "  </div>\n",
              "\n",
              "\n",
              "<div id=\"df-65c80b71-953a-4817-985c-4ea215c4a798\">\n",
              "  <button class=\"colab-df-quickchart\" onclick=\"quickchart('df-65c80b71-953a-4817-985c-4ea215c4a798')\"\n",
              "            title=\"Suggest charts\"\n",
              "            style=\"display:none;\">\n",
              "\n",
              "<svg xmlns=\"http://www.w3.org/2000/svg\" height=\"24px\"viewBox=\"0 0 24 24\"\n",
              "     width=\"24px\">\n",
              "    <g>\n",
              "        <path d=\"M19 3H5c-1.1 0-2 .9-2 2v14c0 1.1.9 2 2 2h14c1.1 0 2-.9 2-2V5c0-1.1-.9-2-2-2zM9 17H7v-7h2v7zm4 0h-2V7h2v10zm4 0h-2v-4h2v4z\"/>\n",
              "    </g>\n",
              "</svg>\n",
              "  </button>\n",
              "\n",
              "<style>\n",
              "  .colab-df-quickchart {\n",
              "      --bg-color: #E8F0FE;\n",
              "      --fill-color: #1967D2;\n",
              "      --hover-bg-color: #E2EBFA;\n",
              "      --hover-fill-color: #174EA6;\n",
              "      --disabled-fill-color: #AAA;\n",
              "      --disabled-bg-color: #DDD;\n",
              "  }\n",
              "\n",
              "  [theme=dark] .colab-df-quickchart {\n",
              "      --bg-color: #3B4455;\n",
              "      --fill-color: #D2E3FC;\n",
              "      --hover-bg-color: #434B5C;\n",
              "      --hover-fill-color: #FFFFFF;\n",
              "      --disabled-bg-color: #3B4455;\n",
              "      --disabled-fill-color: #666;\n",
              "  }\n",
              "\n",
              "  .colab-df-quickchart {\n",
              "    background-color: var(--bg-color);\n",
              "    border: none;\n",
              "    border-radius: 50%;\n",
              "    cursor: pointer;\n",
              "    display: none;\n",
              "    fill: var(--fill-color);\n",
              "    height: 32px;\n",
              "    padding: 0;\n",
              "    width: 32px;\n",
              "  }\n",
              "\n",
              "  .colab-df-quickchart:hover {\n",
              "    background-color: var(--hover-bg-color);\n",
              "    box-shadow: 0 1px 2px rgba(60, 64, 67, 0.3), 0 1px 3px 1px rgba(60, 64, 67, 0.15);\n",
              "    fill: var(--button-hover-fill-color);\n",
              "  }\n",
              "\n",
              "  .colab-df-quickchart-complete:disabled,\n",
              "  .colab-df-quickchart-complete:disabled:hover {\n",
              "    background-color: var(--disabled-bg-color);\n",
              "    fill: var(--disabled-fill-color);\n",
              "    box-shadow: none;\n",
              "  }\n",
              "\n",
              "  .colab-df-spinner {\n",
              "    border: 2px solid var(--fill-color);\n",
              "    border-color: transparent;\n",
              "    border-bottom-color: var(--fill-color);\n",
              "    animation:\n",
              "      spin 1s steps(1) infinite;\n",
              "  }\n",
              "\n",
              "  @keyframes spin {\n",
              "    0% {\n",
              "      border-color: transparent;\n",
              "      border-bottom-color: var(--fill-color);\n",
              "      border-left-color: var(--fill-color);\n",
              "    }\n",
              "    20% {\n",
              "      border-color: transparent;\n",
              "      border-left-color: var(--fill-color);\n",
              "      border-top-color: var(--fill-color);\n",
              "    }\n",
              "    30% {\n",
              "      border-color: transparent;\n",
              "      border-left-color: var(--fill-color);\n",
              "      border-top-color: var(--fill-color);\n",
              "      border-right-color: var(--fill-color);\n",
              "    }\n",
              "    40% {\n",
              "      border-color: transparent;\n",
              "      border-right-color: var(--fill-color);\n",
              "      border-top-color: var(--fill-color);\n",
              "    }\n",
              "    60% {\n",
              "      border-color: transparent;\n",
              "      border-right-color: var(--fill-color);\n",
              "    }\n",
              "    80% {\n",
              "      border-color: transparent;\n",
              "      border-right-color: var(--fill-color);\n",
              "      border-bottom-color: var(--fill-color);\n",
              "    }\n",
              "    90% {\n",
              "      border-color: transparent;\n",
              "      border-bottom-color: var(--fill-color);\n",
              "    }\n",
              "  }\n",
              "</style>\n",
              "\n",
              "  <script>\n",
              "    async function quickchart(key) {\n",
              "      const quickchartButtonEl =\n",
              "        document.querySelector('#' + key + ' button');\n",
              "      quickchartButtonEl.disabled = true;  // To prevent multiple clicks.\n",
              "      quickchartButtonEl.classList.add('colab-df-spinner');\n",
              "      try {\n",
              "        const charts = await google.colab.kernel.invokeFunction(\n",
              "            'suggestCharts', [key], {});\n",
              "      } catch (error) {\n",
              "        console.error('Error during call to suggestCharts:', error);\n",
              "      }\n",
              "      quickchartButtonEl.classList.remove('colab-df-spinner');\n",
              "      quickchartButtonEl.classList.add('colab-df-quickchart-complete');\n",
              "    }\n",
              "    (() => {\n",
              "      let quickchartButtonEl =\n",
              "        document.querySelector('#df-65c80b71-953a-4817-985c-4ea215c4a798 button');\n",
              "      quickchartButtonEl.style.display =\n",
              "        google.colab.kernel.accessAllowed ? 'block' : 'none';\n",
              "    })();\n",
              "  </script>\n",
              "</div>\n",
              "\n",
              "    </div>\n",
              "  </div>\n"
            ],
            "application/vnd.google.colaboratory.intrinsic+json": {
              "type": "dataframe",
              "variable_name": "df"
            }
          },
          "metadata": {},
          "execution_count": 57
        }
      ],
      "source": [
        "df.head()"
      ]
    },
    {
      "cell_type": "markdown",
      "id": "8fc1a46e-f081-4ab6-8bf7-aba8668008ed",
      "metadata": {
        "id": "8fc1a46e-f081-4ab6-8bf7-aba8668008ed"
      },
      "source": [
        "## Preprocessing"
      ]
    },
    {
      "cell_type": "code",
      "execution_count": 58,
      "id": "79b9289e-af75-4013-b820-e604a46bd775",
      "metadata": {
        "colab": {
          "base_uri": "https://localhost:8080/"
        },
        "id": "79b9289e-af75-4013-b820-e604a46bd775",
        "outputId": "deb1f5b6-e948-450d-d999-b4e70f41e9f8"
      },
      "outputs": [
        {
          "output_type": "execute_result",
          "data": {
            "text/plain": [
              "estimated_stock_pct                  0\n",
              "quantity                             0\n",
              "temperature                          0\n",
              "unit_price                           0\n",
              "timestamp_day_of_month               0\n",
              "timestamp_day_of_week                0\n",
              "timestamp_hour                       0\n",
              "category_baby products               0\n",
              "category_baked goods                 0\n",
              "category_baking                      0\n",
              "category_beverages                   0\n",
              "category_canned foods                0\n",
              "category_cheese                      0\n",
              "category_cleaning products           0\n",
              "category_condiments and sauces       0\n",
              "category_dairy                       0\n",
              "category_frozen                      0\n",
              "category_fruit                       0\n",
              "category_kitchen                     0\n",
              "category_meat                        0\n",
              "category_medicine                    0\n",
              "category_packaged foods              0\n",
              "category_personal care               0\n",
              "category_pets                        0\n",
              "category_refrigerated items          0\n",
              "category_seafood                     0\n",
              "category_snacks                      0\n",
              "category_spices and herbs            0\n",
              "category_vegetables                  0\n",
              "sales_revenue                        0\n",
              "market_share                         0\n",
              "product_category                     0\n",
              "timestamp                            0\n",
              "growth_rate                       4311\n",
              "packaging                            0\n",
              "branding                             0\n",
              "dtype: int64"
            ]
          },
          "metadata": {},
          "execution_count": 58
        }
      ],
      "source": [
        "df.isnull().sum()"
      ]
    },
    {
      "cell_type": "code",
      "execution_count": 59,
      "id": "0aa9bf9c-297f-4aa4-8d0d-cf8b15e01eae",
      "metadata": {
        "id": "0aa9bf9c-297f-4aa4-8d0d-cf8b15e01eae"
      },
      "outputs": [],
      "source": [
        "mean_growth_rate = df['growth_rate'].mean()\n",
        "df['growth_rate'].fillna(mean_growth_rate, inplace=True)"
      ]
    },
    {
      "cell_type": "code",
      "execution_count": 60,
      "id": "f9f49c21-f7e7-49aa-b19d-c82dfd87405b",
      "metadata": {
        "colab": {
          "base_uri": "https://localhost:8080/"
        },
        "id": "f9f49c21-f7e7-49aa-b19d-c82dfd87405b",
        "outputId": "b9e97f8e-498d-4531-fffc-643188e5795e"
      },
      "outputs": [
        {
          "output_type": "execute_result",
          "data": {
            "text/plain": [
              "estimated_stock_pct               0\n",
              "quantity                          0\n",
              "temperature                       0\n",
              "unit_price                        0\n",
              "timestamp_day_of_month            0\n",
              "timestamp_day_of_week             0\n",
              "timestamp_hour                    0\n",
              "category_baby products            0\n",
              "category_baked goods              0\n",
              "category_baking                   0\n",
              "category_beverages                0\n",
              "category_canned foods             0\n",
              "category_cheese                   0\n",
              "category_cleaning products        0\n",
              "category_condiments and sauces    0\n",
              "category_dairy                    0\n",
              "category_frozen                   0\n",
              "category_fruit                    0\n",
              "category_kitchen                  0\n",
              "category_meat                     0\n",
              "category_medicine                 0\n",
              "category_packaged foods           0\n",
              "category_personal care            0\n",
              "category_pets                     0\n",
              "category_refrigerated items       0\n",
              "category_seafood                  0\n",
              "category_snacks                   0\n",
              "category_spices and herbs         0\n",
              "category_vegetables               0\n",
              "sales_revenue                     0\n",
              "market_share                      0\n",
              "product_category                  0\n",
              "timestamp                         0\n",
              "growth_rate                       0\n",
              "packaging                         0\n",
              "branding                          0\n",
              "dtype: int64"
            ]
          },
          "metadata": {},
          "execution_count": 60
        }
      ],
      "source": [
        "df.isnull().sum()"
      ]
    },
    {
      "cell_type": "code",
      "execution_count": 61,
      "id": "4d58c453-51eb-4e76-8138-8e71a9a907ac",
      "metadata": {
        "id": "4d58c453-51eb-4e76-8138-8e71a9a907ac"
      },
      "outputs": [],
      "source": [
        "boolean_cols = ['category_baby products', 'category_baked goods', 'category_baking', 'category_beverages',\n",
        "                'category_canned foods', 'category_cheese', 'category_cleaning products',\n",
        "                'category_condiments and sauces', 'category_dairy', 'category_frozen', 'category_fruit',\n",
        "                'category_kitchen', 'category_meat', 'category_medicine', 'category_packaged foods',\n",
        "                'category_personal care', 'category_pets', 'category_refrigerated items',\n",
        "                'category_seafood', 'category_snacks', 'category_spices and herbs', 'category_vegetables']\n",
        "\n",
        "df['product_category_combined'] = df[boolean_cols].idxmax(axis=1)\n",
        "\n",
        "df.drop(columns=boolean_cols, inplace=True)"
      ]
    },
    {
      "cell_type": "code",
      "execution_count": 62,
      "id": "83823129-bfd1-4319-9759-58616904c53f",
      "metadata": {
        "colab": {
          "base_uri": "https://localhost:8080/"
        },
        "id": "83823129-bfd1-4319-9759-58616904c53f",
        "outputId": "659690ce-f3f1-4ce3-af27-894cfb3eef83"
      },
      "outputs": [
        {
          "output_type": "stream",
          "name": "stdout",
          "text": [
            "<class 'pandas.core.frame.DataFrame'>\n",
            "RangeIndex: 7999 entries, 0 to 7998\n",
            "Data columns (total 15 columns):\n",
            " #   Column                     Non-Null Count  Dtype  \n",
            "---  ------                     --------------  -----  \n",
            " 0   estimated_stock_pct        7999 non-null   float64\n",
            " 1   quantity                   7999 non-null   int64  \n",
            " 2   temperature                7999 non-null   float64\n",
            " 3   unit_price                 7999 non-null   float64\n",
            " 4   timestamp_day_of_month     7999 non-null   int64  \n",
            " 5   timestamp_day_of_week      7999 non-null   int64  \n",
            " 6   timestamp_hour             7999 non-null   int64  \n",
            " 7   sales_revenue              7999 non-null   float64\n",
            " 8   market_share               7999 non-null   float64\n",
            " 9   product_category           7999 non-null   object \n",
            " 10  timestamp                  7999 non-null   object \n",
            " 11  growth_rate                7999 non-null   float64\n",
            " 12  packaging                  7999 non-null   int64  \n",
            " 13  branding                   7999 non-null   int64  \n",
            " 14  product_category_combined  7999 non-null   object \n",
            "dtypes: float64(6), int64(6), object(3)\n",
            "memory usage: 937.5+ KB\n"
          ]
        }
      ],
      "source": [
        "df.info()"
      ]
    },
    {
      "cell_type": "code",
      "execution_count": 63,
      "id": "d6c0067e-5609-41fe-8236-2a87606a8763",
      "metadata": {
        "colab": {
          "base_uri": "https://localhost:8080/"
        },
        "id": "d6c0067e-5609-41fe-8236-2a87606a8763",
        "outputId": "9eccbdd3-6af0-4110-d9b6-c78c14289b86"
      },
      "outputs": [
        {
          "output_type": "stream",
          "name": "stdout",
          "text": [
            "<class 'pandas.core.frame.DataFrame'>\n",
            "RangeIndex: 7999 entries, 0 to 7998\n",
            "Data columns (total 15 columns):\n",
            " #   Column                     Non-Null Count  Dtype  \n",
            "---  ------                     --------------  -----  \n",
            " 0   estimated_stock_pct        7999 non-null   float64\n",
            " 1   quantity                   7999 non-null   int64  \n",
            " 2   temperature                7999 non-null   float64\n",
            " 3   unit_price                 7999 non-null   float64\n",
            " 4   timestamp_day_of_month     7999 non-null   int64  \n",
            " 5   timestamp_day_of_week      7999 non-null   int64  \n",
            " 6   timestamp_hour             7999 non-null   int64  \n",
            " 7   sales_revenue              7999 non-null   float64\n",
            " 8   market_share               7999 non-null   float64\n",
            " 9   product_category           7999 non-null   object \n",
            " 10  timestamp                  7999 non-null   object \n",
            " 11  growth_rate                7999 non-null   float64\n",
            " 12  packaging                  7999 non-null   int64  \n",
            " 13  branding                   7999 non-null   int64  \n",
            " 14  product_category_combined  7999 non-null   object \n",
            "dtypes: float64(6), int64(6), object(3)\n",
            "memory usage: 937.5+ KB\n"
          ]
        }
      ],
      "source": [
        "df.info()"
      ]
    },
    {
      "cell_type": "code",
      "execution_count": 64,
      "id": "542b3a90-fb3d-433e-a305-92279ccfc3a9",
      "metadata": {
        "id": "542b3a90-fb3d-433e-a305-92279ccfc3a9"
      },
      "outputs": [],
      "source": [
        "df.drop('product_category_combined',axis=1,inplace=True)"
      ]
    },
    {
      "cell_type": "code",
      "execution_count": 65,
      "id": "814dac99-5883-498b-a2e6-a8dd5e14e980",
      "metadata": {
        "colab": {
          "base_uri": "https://localhost:8080/"
        },
        "id": "814dac99-5883-498b-a2e6-a8dd5e14e980",
        "outputId": "2b0941f2-1e0c-488d-ccf1-3abdcfd35c9a"
      },
      "outputs": [
        {
          "output_type": "stream",
          "name": "stdout",
          "text": [
            "<class 'pandas.core.frame.DataFrame'>\n",
            "RangeIndex: 7999 entries, 0 to 7998\n",
            "Data columns (total 14 columns):\n",
            " #   Column                  Non-Null Count  Dtype  \n",
            "---  ------                  --------------  -----  \n",
            " 0   estimated_stock_pct     7999 non-null   float64\n",
            " 1   quantity                7999 non-null   int64  \n",
            " 2   temperature             7999 non-null   float64\n",
            " 3   unit_price              7999 non-null   float64\n",
            " 4   timestamp_day_of_month  7999 non-null   int64  \n",
            " 5   timestamp_day_of_week   7999 non-null   int64  \n",
            " 6   timestamp_hour          7999 non-null   int64  \n",
            " 7   sales_revenue           7999 non-null   float64\n",
            " 8   market_share            7999 non-null   float64\n",
            " 9   product_category        7999 non-null   object \n",
            " 10  timestamp               7999 non-null   object \n",
            " 11  growth_rate             7999 non-null   float64\n",
            " 12  packaging               7999 non-null   int64  \n",
            " 13  branding                7999 non-null   int64  \n",
            "dtypes: float64(6), int64(6), object(2)\n",
            "memory usage: 875.0+ KB\n"
          ]
        }
      ],
      "source": [
        "df.info()"
      ]
    },
    {
      "cell_type": "code",
      "execution_count": 66,
      "id": "0aa4d626-2211-42d7-ba37-99e392213968",
      "metadata": {
        "id": "0aa4d626-2211-42d7-ba37-99e392213968"
      },
      "outputs": [],
      "source": [
        "df.drop('timestamp',axis=1,inplace=True)"
      ]
    },
    {
      "cell_type": "code",
      "execution_count": 67,
      "id": "eb8791dd-3d67-42f4-9de9-d5e6804de86e",
      "metadata": {
        "id": "eb8791dd-3d67-42f4-9de9-d5e6804de86e"
      },
      "outputs": [],
      "source": [
        "\n",
        "\n",
        "object_cols = ['product_category']\n",
        "\n",
        "df = pd.get_dummies(df, columns=object_cols)\n"
      ]
    },
    {
      "cell_type": "code",
      "execution_count": 68,
      "id": "ca3b77a5-3902-4b16-a584-1d32b357ec45",
      "metadata": {
        "colab": {
          "base_uri": "https://localhost:8080/",
          "height": 273
        },
        "id": "ca3b77a5-3902-4b16-a584-1d32b357ec45",
        "outputId": "7d3646b7-965d-4d00-c5a1-b18d4820a764"
      },
      "outputs": [
        {
          "output_type": "execute_result",
          "data": {
            "text/plain": [
              "   estimated_stock_pct  quantity  temperature  unit_price  \\\n",
              "0                0.890         3    -0.028850       11.19   \n",
              "1                0.990         0     0.173773        3.19   \n",
              "2                0.980         1     0.173773        8.99   \n",
              "3                0.660         0     0.173773       19.19   \n",
              "4                0.345         0     0.173773       15.49   \n",
              "\n",
              "   timestamp_day_of_month  timestamp_day_of_week  timestamp_hour  \\\n",
              "0                       1                      1               9   \n",
              "1                       5                      5               9   \n",
              "2                       5                      5               9   \n",
              "3                       5                      5               9   \n",
              "4                       5                      5               9   \n",
              "\n",
              "   sales_revenue  market_share  growth_rate  ...  \\\n",
              "0          33.57      0.000437          inf  ...   \n",
              "1           0.00      0.000000          inf  ...   \n",
              "2           8.99      0.000117          inf  ...   \n",
              "3           0.00      0.000000          inf  ...   \n",
              "4           0.00      0.000000         -1.0  ...   \n",
              "\n",
              "   product_category_category_meat  product_category_category_medicine  \\\n",
              "0                           False                               False   \n",
              "1                           False                               False   \n",
              "2                           False                               False   \n",
              "3                           False                               False   \n",
              "4                           False                               False   \n",
              "\n",
              "   product_category_category_packaged foods  \\\n",
              "0                                     False   \n",
              "1                                     False   \n",
              "2                                     False   \n",
              "3                                     False   \n",
              "4                                     False   \n",
              "\n",
              "   product_category_category_personal care  product_category_category_pets  \\\n",
              "0                                    False                           False   \n",
              "1                                    False                           False   \n",
              "2                                    False                           False   \n",
              "3                                    False                           False   \n",
              "4                                    False                           False   \n",
              "\n",
              "   product_category_category_refrigerated items  \\\n",
              "0                                         False   \n",
              "1                                         False   \n",
              "2                                         False   \n",
              "3                                         False   \n",
              "4                                         False   \n",
              "\n",
              "   product_category_category_seafood  product_category_category_snacks  \\\n",
              "0                              False                             False   \n",
              "1                              False                              True   \n",
              "2                              False                             False   \n",
              "3                               True                             False   \n",
              "4                              False                             False   \n",
              "\n",
              "   product_category_category_spices and herbs  \\\n",
              "0                                       False   \n",
              "1                                       False   \n",
              "2                                       False   \n",
              "3                                       False   \n",
              "4                                       False   \n",
              "\n",
              "   product_category_category_vegetables  \n",
              "0                                 False  \n",
              "1                                 False  \n",
              "2                                 False  \n",
              "3                                 False  \n",
              "4                                 False  \n",
              "\n",
              "[5 rows x 34 columns]"
            ],
            "text/html": [
              "\n",
              "  <div id=\"df-a7d58c89-fb44-44e8-9c5e-574ff51f06c6\" class=\"colab-df-container\">\n",
              "    <div>\n",
              "<style scoped>\n",
              "    .dataframe tbody tr th:only-of-type {\n",
              "        vertical-align: middle;\n",
              "    }\n",
              "\n",
              "    .dataframe tbody tr th {\n",
              "        vertical-align: top;\n",
              "    }\n",
              "\n",
              "    .dataframe thead th {\n",
              "        text-align: right;\n",
              "    }\n",
              "</style>\n",
              "<table border=\"1\" class=\"dataframe\">\n",
              "  <thead>\n",
              "    <tr style=\"text-align: right;\">\n",
              "      <th></th>\n",
              "      <th>estimated_stock_pct</th>\n",
              "      <th>quantity</th>\n",
              "      <th>temperature</th>\n",
              "      <th>unit_price</th>\n",
              "      <th>timestamp_day_of_month</th>\n",
              "      <th>timestamp_day_of_week</th>\n",
              "      <th>timestamp_hour</th>\n",
              "      <th>sales_revenue</th>\n",
              "      <th>market_share</th>\n",
              "      <th>growth_rate</th>\n",
              "      <th>...</th>\n",
              "      <th>product_category_category_meat</th>\n",
              "      <th>product_category_category_medicine</th>\n",
              "      <th>product_category_category_packaged foods</th>\n",
              "      <th>product_category_category_personal care</th>\n",
              "      <th>product_category_category_pets</th>\n",
              "      <th>product_category_category_refrigerated items</th>\n",
              "      <th>product_category_category_seafood</th>\n",
              "      <th>product_category_category_snacks</th>\n",
              "      <th>product_category_category_spices and herbs</th>\n",
              "      <th>product_category_category_vegetables</th>\n",
              "    </tr>\n",
              "  </thead>\n",
              "  <tbody>\n",
              "    <tr>\n",
              "      <th>0</th>\n",
              "      <td>0.890</td>\n",
              "      <td>3</td>\n",
              "      <td>-0.028850</td>\n",
              "      <td>11.19</td>\n",
              "      <td>1</td>\n",
              "      <td>1</td>\n",
              "      <td>9</td>\n",
              "      <td>33.57</td>\n",
              "      <td>0.000437</td>\n",
              "      <td>inf</td>\n",
              "      <td>...</td>\n",
              "      <td>False</td>\n",
              "      <td>False</td>\n",
              "      <td>False</td>\n",
              "      <td>False</td>\n",
              "      <td>False</td>\n",
              "      <td>False</td>\n",
              "      <td>False</td>\n",
              "      <td>False</td>\n",
              "      <td>False</td>\n",
              "      <td>False</td>\n",
              "    </tr>\n",
              "    <tr>\n",
              "      <th>1</th>\n",
              "      <td>0.990</td>\n",
              "      <td>0</td>\n",
              "      <td>0.173773</td>\n",
              "      <td>3.19</td>\n",
              "      <td>5</td>\n",
              "      <td>5</td>\n",
              "      <td>9</td>\n",
              "      <td>0.00</td>\n",
              "      <td>0.000000</td>\n",
              "      <td>inf</td>\n",
              "      <td>...</td>\n",
              "      <td>False</td>\n",
              "      <td>False</td>\n",
              "      <td>False</td>\n",
              "      <td>False</td>\n",
              "      <td>False</td>\n",
              "      <td>False</td>\n",
              "      <td>False</td>\n",
              "      <td>True</td>\n",
              "      <td>False</td>\n",
              "      <td>False</td>\n",
              "    </tr>\n",
              "    <tr>\n",
              "      <th>2</th>\n",
              "      <td>0.980</td>\n",
              "      <td>1</td>\n",
              "      <td>0.173773</td>\n",
              "      <td>8.99</td>\n",
              "      <td>5</td>\n",
              "      <td>5</td>\n",
              "      <td>9</td>\n",
              "      <td>8.99</td>\n",
              "      <td>0.000117</td>\n",
              "      <td>inf</td>\n",
              "      <td>...</td>\n",
              "      <td>False</td>\n",
              "      <td>False</td>\n",
              "      <td>False</td>\n",
              "      <td>False</td>\n",
              "      <td>False</td>\n",
              "      <td>False</td>\n",
              "      <td>False</td>\n",
              "      <td>False</td>\n",
              "      <td>False</td>\n",
              "      <td>False</td>\n",
              "    </tr>\n",
              "    <tr>\n",
              "      <th>3</th>\n",
              "      <td>0.660</td>\n",
              "      <td>0</td>\n",
              "      <td>0.173773</td>\n",
              "      <td>19.19</td>\n",
              "      <td>5</td>\n",
              "      <td>5</td>\n",
              "      <td>9</td>\n",
              "      <td>0.00</td>\n",
              "      <td>0.000000</td>\n",
              "      <td>inf</td>\n",
              "      <td>...</td>\n",
              "      <td>False</td>\n",
              "      <td>False</td>\n",
              "      <td>False</td>\n",
              "      <td>False</td>\n",
              "      <td>False</td>\n",
              "      <td>False</td>\n",
              "      <td>True</td>\n",
              "      <td>False</td>\n",
              "      <td>False</td>\n",
              "      <td>False</td>\n",
              "    </tr>\n",
              "    <tr>\n",
              "      <th>4</th>\n",
              "      <td>0.345</td>\n",
              "      <td>0</td>\n",
              "      <td>0.173773</td>\n",
              "      <td>15.49</td>\n",
              "      <td>5</td>\n",
              "      <td>5</td>\n",
              "      <td>9</td>\n",
              "      <td>0.00</td>\n",
              "      <td>0.000000</td>\n",
              "      <td>-1.0</td>\n",
              "      <td>...</td>\n",
              "      <td>False</td>\n",
              "      <td>False</td>\n",
              "      <td>False</td>\n",
              "      <td>False</td>\n",
              "      <td>False</td>\n",
              "      <td>False</td>\n",
              "      <td>False</td>\n",
              "      <td>False</td>\n",
              "      <td>False</td>\n",
              "      <td>False</td>\n",
              "    </tr>\n",
              "  </tbody>\n",
              "</table>\n",
              "<p>5 rows × 34 columns</p>\n",
              "</div>\n",
              "    <div class=\"colab-df-buttons\">\n",
              "\n",
              "  <div class=\"colab-df-container\">\n",
              "    <button class=\"colab-df-convert\" onclick=\"convertToInteractive('df-a7d58c89-fb44-44e8-9c5e-574ff51f06c6')\"\n",
              "            title=\"Convert this dataframe to an interactive table.\"\n",
              "            style=\"display:none;\">\n",
              "\n",
              "  <svg xmlns=\"http://www.w3.org/2000/svg\" height=\"24px\" viewBox=\"0 -960 960 960\">\n",
              "    <path d=\"M120-120v-720h720v720H120Zm60-500h600v-160H180v160Zm220 220h160v-160H400v160Zm0 220h160v-160H400v160ZM180-400h160v-160H180v160Zm440 0h160v-160H620v160ZM180-180h160v-160H180v160Zm440 0h160v-160H620v160Z\"/>\n",
              "  </svg>\n",
              "    </button>\n",
              "\n",
              "  <style>\n",
              "    .colab-df-container {\n",
              "      display:flex;\n",
              "      gap: 12px;\n",
              "    }\n",
              "\n",
              "    .colab-df-convert {\n",
              "      background-color: #E8F0FE;\n",
              "      border: none;\n",
              "      border-radius: 50%;\n",
              "      cursor: pointer;\n",
              "      display: none;\n",
              "      fill: #1967D2;\n",
              "      height: 32px;\n",
              "      padding: 0 0 0 0;\n",
              "      width: 32px;\n",
              "    }\n",
              "\n",
              "    .colab-df-convert:hover {\n",
              "      background-color: #E2EBFA;\n",
              "      box-shadow: 0px 1px 2px rgba(60, 64, 67, 0.3), 0px 1px 3px 1px rgba(60, 64, 67, 0.15);\n",
              "      fill: #174EA6;\n",
              "    }\n",
              "\n",
              "    .colab-df-buttons div {\n",
              "      margin-bottom: 4px;\n",
              "    }\n",
              "\n",
              "    [theme=dark] .colab-df-convert {\n",
              "      background-color: #3B4455;\n",
              "      fill: #D2E3FC;\n",
              "    }\n",
              "\n",
              "    [theme=dark] .colab-df-convert:hover {\n",
              "      background-color: #434B5C;\n",
              "      box-shadow: 0px 1px 3px 1px rgba(0, 0, 0, 0.15);\n",
              "      filter: drop-shadow(0px 1px 2px rgba(0, 0, 0, 0.3));\n",
              "      fill: #FFFFFF;\n",
              "    }\n",
              "  </style>\n",
              "\n",
              "    <script>\n",
              "      const buttonEl =\n",
              "        document.querySelector('#df-a7d58c89-fb44-44e8-9c5e-574ff51f06c6 button.colab-df-convert');\n",
              "      buttonEl.style.display =\n",
              "        google.colab.kernel.accessAllowed ? 'block' : 'none';\n",
              "\n",
              "      async function convertToInteractive(key) {\n",
              "        const element = document.querySelector('#df-a7d58c89-fb44-44e8-9c5e-574ff51f06c6');\n",
              "        const dataTable =\n",
              "          await google.colab.kernel.invokeFunction('convertToInteractive',\n",
              "                                                    [key], {});\n",
              "        if (!dataTable) return;\n",
              "\n",
              "        const docLinkHtml = 'Like what you see? Visit the ' +\n",
              "          '<a target=\"_blank\" href=https://colab.research.google.com/notebooks/data_table.ipynb>data table notebook</a>'\n",
              "          + ' to learn more about interactive tables.';\n",
              "        element.innerHTML = '';\n",
              "        dataTable['output_type'] = 'display_data';\n",
              "        await google.colab.output.renderOutput(dataTable, element);\n",
              "        const docLink = document.createElement('div');\n",
              "        docLink.innerHTML = docLinkHtml;\n",
              "        element.appendChild(docLink);\n",
              "      }\n",
              "    </script>\n",
              "  </div>\n",
              "\n",
              "\n",
              "<div id=\"df-d5908c9a-404a-4044-bcea-0c0ca049fd45\">\n",
              "  <button class=\"colab-df-quickchart\" onclick=\"quickchart('df-d5908c9a-404a-4044-bcea-0c0ca049fd45')\"\n",
              "            title=\"Suggest charts\"\n",
              "            style=\"display:none;\">\n",
              "\n",
              "<svg xmlns=\"http://www.w3.org/2000/svg\" height=\"24px\"viewBox=\"0 0 24 24\"\n",
              "     width=\"24px\">\n",
              "    <g>\n",
              "        <path d=\"M19 3H5c-1.1 0-2 .9-2 2v14c0 1.1.9 2 2 2h14c1.1 0 2-.9 2-2V5c0-1.1-.9-2-2-2zM9 17H7v-7h2v7zm4 0h-2V7h2v10zm4 0h-2v-4h2v4z\"/>\n",
              "    </g>\n",
              "</svg>\n",
              "  </button>\n",
              "\n",
              "<style>\n",
              "  .colab-df-quickchart {\n",
              "      --bg-color: #E8F0FE;\n",
              "      --fill-color: #1967D2;\n",
              "      --hover-bg-color: #E2EBFA;\n",
              "      --hover-fill-color: #174EA6;\n",
              "      --disabled-fill-color: #AAA;\n",
              "      --disabled-bg-color: #DDD;\n",
              "  }\n",
              "\n",
              "  [theme=dark] .colab-df-quickchart {\n",
              "      --bg-color: #3B4455;\n",
              "      --fill-color: #D2E3FC;\n",
              "      --hover-bg-color: #434B5C;\n",
              "      --hover-fill-color: #FFFFFF;\n",
              "      --disabled-bg-color: #3B4455;\n",
              "      --disabled-fill-color: #666;\n",
              "  }\n",
              "\n",
              "  .colab-df-quickchart {\n",
              "    background-color: var(--bg-color);\n",
              "    border: none;\n",
              "    border-radius: 50%;\n",
              "    cursor: pointer;\n",
              "    display: none;\n",
              "    fill: var(--fill-color);\n",
              "    height: 32px;\n",
              "    padding: 0;\n",
              "    width: 32px;\n",
              "  }\n",
              "\n",
              "  .colab-df-quickchart:hover {\n",
              "    background-color: var(--hover-bg-color);\n",
              "    box-shadow: 0 1px 2px rgba(60, 64, 67, 0.3), 0 1px 3px 1px rgba(60, 64, 67, 0.15);\n",
              "    fill: var(--button-hover-fill-color);\n",
              "  }\n",
              "\n",
              "  .colab-df-quickchart-complete:disabled,\n",
              "  .colab-df-quickchart-complete:disabled:hover {\n",
              "    background-color: var(--disabled-bg-color);\n",
              "    fill: var(--disabled-fill-color);\n",
              "    box-shadow: none;\n",
              "  }\n",
              "\n",
              "  .colab-df-spinner {\n",
              "    border: 2px solid var(--fill-color);\n",
              "    border-color: transparent;\n",
              "    border-bottom-color: var(--fill-color);\n",
              "    animation:\n",
              "      spin 1s steps(1) infinite;\n",
              "  }\n",
              "\n",
              "  @keyframes spin {\n",
              "    0% {\n",
              "      border-color: transparent;\n",
              "      border-bottom-color: var(--fill-color);\n",
              "      border-left-color: var(--fill-color);\n",
              "    }\n",
              "    20% {\n",
              "      border-color: transparent;\n",
              "      border-left-color: var(--fill-color);\n",
              "      border-top-color: var(--fill-color);\n",
              "    }\n",
              "    30% {\n",
              "      border-color: transparent;\n",
              "      border-left-color: var(--fill-color);\n",
              "      border-top-color: var(--fill-color);\n",
              "      border-right-color: var(--fill-color);\n",
              "    }\n",
              "    40% {\n",
              "      border-color: transparent;\n",
              "      border-right-color: var(--fill-color);\n",
              "      border-top-color: var(--fill-color);\n",
              "    }\n",
              "    60% {\n",
              "      border-color: transparent;\n",
              "      border-right-color: var(--fill-color);\n",
              "    }\n",
              "    80% {\n",
              "      border-color: transparent;\n",
              "      border-right-color: var(--fill-color);\n",
              "      border-bottom-color: var(--fill-color);\n",
              "    }\n",
              "    90% {\n",
              "      border-color: transparent;\n",
              "      border-bottom-color: var(--fill-color);\n",
              "    }\n",
              "  }\n",
              "</style>\n",
              "\n",
              "  <script>\n",
              "    async function quickchart(key) {\n",
              "      const quickchartButtonEl =\n",
              "        document.querySelector('#' + key + ' button');\n",
              "      quickchartButtonEl.disabled = true;  // To prevent multiple clicks.\n",
              "      quickchartButtonEl.classList.add('colab-df-spinner');\n",
              "      try {\n",
              "        const charts = await google.colab.kernel.invokeFunction(\n",
              "            'suggestCharts', [key], {});\n",
              "      } catch (error) {\n",
              "        console.error('Error during call to suggestCharts:', error);\n",
              "      }\n",
              "      quickchartButtonEl.classList.remove('colab-df-spinner');\n",
              "      quickchartButtonEl.classList.add('colab-df-quickchart-complete');\n",
              "    }\n",
              "    (() => {\n",
              "      let quickchartButtonEl =\n",
              "        document.querySelector('#df-d5908c9a-404a-4044-bcea-0c0ca049fd45 button');\n",
              "      quickchartButtonEl.style.display =\n",
              "        google.colab.kernel.accessAllowed ? 'block' : 'none';\n",
              "    })();\n",
              "  </script>\n",
              "</div>\n",
              "\n",
              "    </div>\n",
              "  </div>\n"
            ],
            "application/vnd.google.colaboratory.intrinsic+json": {
              "type": "dataframe",
              "variable_name": "df"
            }
          },
          "metadata": {},
          "execution_count": 68
        }
      ],
      "source": [
        "df.head()"
      ]
    },
    {
      "cell_type": "code",
      "execution_count": 69,
      "id": "72d49f47-21ad-4eb2-a23f-303ccadc9224",
      "metadata": {
        "colab": {
          "base_uri": "https://localhost:8080/"
        },
        "id": "72d49f47-21ad-4eb2-a23f-303ccadc9224",
        "outputId": "fe1b2b60-af28-4c46-f607-346dc50e6103"
      },
      "outputs": [
        {
          "output_type": "stream",
          "name": "stdout",
          "text": [
            "<class 'pandas.core.frame.DataFrame'>\n",
            "RangeIndex: 7999 entries, 0 to 7998\n",
            "Data columns (total 34 columns):\n",
            " #   Column                                           Non-Null Count  Dtype  \n",
            "---  ------                                           --------------  -----  \n",
            " 0   estimated_stock_pct                              7999 non-null   float64\n",
            " 1   quantity                                         7999 non-null   int64  \n",
            " 2   temperature                                      7999 non-null   float64\n",
            " 3   unit_price                                       7999 non-null   float64\n",
            " 4   timestamp_day_of_month                           7999 non-null   int64  \n",
            " 5   timestamp_day_of_week                            7999 non-null   int64  \n",
            " 6   timestamp_hour                                   7999 non-null   int64  \n",
            " 7   sales_revenue                                    7999 non-null   float64\n",
            " 8   market_share                                     7999 non-null   float64\n",
            " 9   growth_rate                                      7999 non-null   float64\n",
            " 10  packaging                                        7999 non-null   int64  \n",
            " 11  branding                                         7999 non-null   int64  \n",
            " 12  product_category_category_baby products          7999 non-null   bool   \n",
            " 13  product_category_category_baked goods            7999 non-null   bool   \n",
            " 14  product_category_category_baking                 7999 non-null   bool   \n",
            " 15  product_category_category_beverages              7999 non-null   bool   \n",
            " 16  product_category_category_canned foods           7999 non-null   bool   \n",
            " 17  product_category_category_cheese                 7999 non-null   bool   \n",
            " 18  product_category_category_cleaning products      7999 non-null   bool   \n",
            " 19  product_category_category_condiments and sauces  7999 non-null   bool   \n",
            " 20  product_category_category_dairy                  7999 non-null   bool   \n",
            " 21  product_category_category_frozen                 7999 non-null   bool   \n",
            " 22  product_category_category_fruit                  7999 non-null   bool   \n",
            " 23  product_category_category_kitchen                7999 non-null   bool   \n",
            " 24  product_category_category_meat                   7999 non-null   bool   \n",
            " 25  product_category_category_medicine               7999 non-null   bool   \n",
            " 26  product_category_category_packaged foods         7999 non-null   bool   \n",
            " 27  product_category_category_personal care          7999 non-null   bool   \n",
            " 28  product_category_category_pets                   7999 non-null   bool   \n",
            " 29  product_category_category_refrigerated items     7999 non-null   bool   \n",
            " 30  product_category_category_seafood                7999 non-null   bool   \n",
            " 31  product_category_category_snacks                 7999 non-null   bool   \n",
            " 32  product_category_category_spices and herbs       7999 non-null   bool   \n",
            " 33  product_category_category_vegetables             7999 non-null   bool   \n",
            "dtypes: bool(22), float64(6), int64(6)\n",
            "memory usage: 921.9 KB\n"
          ]
        }
      ],
      "source": [
        "df.info()"
      ]
    },
    {
      "cell_type": "markdown",
      "id": "823601e6-e0ef-4770-bcfb-3fbab3e5adc7",
      "metadata": {
        "id": "823601e6-e0ef-4770-bcfb-3fbab3e5adc7"
      },
      "source": [
        "#### Dividing dataset into 2 parts training and validation"
      ]
    },
    {
      "cell_type": "code",
      "execution_count": 70,
      "id": "2af24d35-ed88-4c16-a6c4-00d2af6f7639",
      "metadata": {
        "id": "2af24d35-ed88-4c16-a6c4-00d2af6f7639"
      },
      "outputs": [],
      "source": [
        "from sklearn.model_selection import train_test_split\n",
        "train_data , val_data = train_test_split(df,test_size=0.2,random_state=42)"
      ]
    },
    {
      "cell_type": "markdown",
      "id": "ab66d17f-92fb-4e33-bc8d-1e3222fadd56",
      "metadata": {
        "id": "ab66d17f-92fb-4e33-bc8d-1e3222fadd56"
      },
      "source": [
        "## Making RandomForest for train data"
      ]
    },
    {
      "cell_type": "code",
      "execution_count": 71,
      "id": "76cc570e-9bd4-4ccd-b3a8-4ea76c106c44",
      "metadata": {
        "id": "76cc570e-9bd4-4ccd-b3a8-4ea76c106c44"
      },
      "outputs": [],
      "source": [
        "from sklearn.ensemble import RandomForestRegressor\n",
        "from sklearn.model_selection import train_test_split\n",
        "from sklearn.metrics import *"
      ]
    },
    {
      "cell_type": "code",
      "execution_count": 72,
      "id": "362753fa-c42b-4feb-a100-1147f973775b",
      "metadata": {
        "id": "362753fa-c42b-4feb-a100-1147f973775b"
      },
      "outputs": [],
      "source": [
        "X = train_data.drop(columns=['sales_revenue'])\n",
        "y = train_data['sales_revenue']"
      ]
    },
    {
      "cell_type": "code",
      "execution_count": 73,
      "id": "06cb13fc-44cc-439d-bbd9-4caefa977666",
      "metadata": {
        "id": "06cb13fc-44cc-439d-bbd9-4caefa977666"
      },
      "outputs": [],
      "source": [
        "import numpy as np\n",
        "X.replace([np.inf, -np.inf], np.nan, inplace=True)"
      ]
    },
    {
      "cell_type": "code",
      "execution_count": 74,
      "id": "1c9cbbb8-242b-4358-8aab-6633136d4cf3",
      "metadata": {
        "id": "1c9cbbb8-242b-4358-8aab-6633136d4cf3"
      },
      "outputs": [],
      "source": [
        "X.dropna(inplace=True)\n",
        "y = y[X.index]"
      ]
    },
    {
      "cell_type": "code",
      "execution_count": 75,
      "id": "9a4c63bd-a2b8-437f-9438-b64df1fa2628",
      "metadata": {
        "id": "9a4c63bd-a2b8-437f-9438-b64df1fa2628"
      },
      "outputs": [],
      "source": [
        "X_train, X_test, y_train, y_test = train_test_split(X, y, test_size=0.2, random_state=42)"
      ]
    },
    {
      "cell_type": "code",
      "execution_count": 76,
      "id": "cf3a2185-42ae-44d0-8a50-964c6adfd0f8",
      "metadata": {
        "colab": {
          "base_uri": "https://localhost:8080/",
          "height": 74
        },
        "id": "cf3a2185-42ae-44d0-8a50-964c6adfd0f8",
        "outputId": "c5a5cd08-2a0e-453f-9378-cc970df20545"
      },
      "outputs": [
        {
          "output_type": "execute_result",
          "data": {
            "text/plain": [
              "RandomForestRegressor()"
            ],
            "text/html": [
              "<style>#sk-container-id-3 {color: black;background-color: white;}#sk-container-id-3 pre{padding: 0;}#sk-container-id-3 div.sk-toggleable {background-color: white;}#sk-container-id-3 label.sk-toggleable__label {cursor: pointer;display: block;width: 100%;margin-bottom: 0;padding: 0.3em;box-sizing: border-box;text-align: center;}#sk-container-id-3 label.sk-toggleable__label-arrow:before {content: \"▸\";float: left;margin-right: 0.25em;color: #696969;}#sk-container-id-3 label.sk-toggleable__label-arrow:hover:before {color: black;}#sk-container-id-3 div.sk-estimator:hover label.sk-toggleable__label-arrow:before {color: black;}#sk-container-id-3 div.sk-toggleable__content {max-height: 0;max-width: 0;overflow: hidden;text-align: left;background-color: #f0f8ff;}#sk-container-id-3 div.sk-toggleable__content pre {margin: 0.2em;color: black;border-radius: 0.25em;background-color: #f0f8ff;}#sk-container-id-3 input.sk-toggleable__control:checked~div.sk-toggleable__content {max-height: 200px;max-width: 100%;overflow: auto;}#sk-container-id-3 input.sk-toggleable__control:checked~label.sk-toggleable__label-arrow:before {content: \"▾\";}#sk-container-id-3 div.sk-estimator input.sk-toggleable__control:checked~label.sk-toggleable__label {background-color: #d4ebff;}#sk-container-id-3 div.sk-label input.sk-toggleable__control:checked~label.sk-toggleable__label {background-color: #d4ebff;}#sk-container-id-3 input.sk-hidden--visually {border: 0;clip: rect(1px 1px 1px 1px);clip: rect(1px, 1px, 1px, 1px);height: 1px;margin: -1px;overflow: hidden;padding: 0;position: absolute;width: 1px;}#sk-container-id-3 div.sk-estimator {font-family: monospace;background-color: #f0f8ff;border: 1px dotted black;border-radius: 0.25em;box-sizing: border-box;margin-bottom: 0.5em;}#sk-container-id-3 div.sk-estimator:hover {background-color: #d4ebff;}#sk-container-id-3 div.sk-parallel-item::after {content: \"\";width: 100%;border-bottom: 1px solid gray;flex-grow: 1;}#sk-container-id-3 div.sk-label:hover label.sk-toggleable__label {background-color: #d4ebff;}#sk-container-id-3 div.sk-serial::before {content: \"\";position: absolute;border-left: 1px solid gray;box-sizing: border-box;top: 0;bottom: 0;left: 50%;z-index: 0;}#sk-container-id-3 div.sk-serial {display: flex;flex-direction: column;align-items: center;background-color: white;padding-right: 0.2em;padding-left: 0.2em;position: relative;}#sk-container-id-3 div.sk-item {position: relative;z-index: 1;}#sk-container-id-3 div.sk-parallel {display: flex;align-items: stretch;justify-content: center;background-color: white;position: relative;}#sk-container-id-3 div.sk-item::before, #sk-container-id-3 div.sk-parallel-item::before {content: \"\";position: absolute;border-left: 1px solid gray;box-sizing: border-box;top: 0;bottom: 0;left: 50%;z-index: -1;}#sk-container-id-3 div.sk-parallel-item {display: flex;flex-direction: column;z-index: 1;position: relative;background-color: white;}#sk-container-id-3 div.sk-parallel-item:first-child::after {align-self: flex-end;width: 50%;}#sk-container-id-3 div.sk-parallel-item:last-child::after {align-self: flex-start;width: 50%;}#sk-container-id-3 div.sk-parallel-item:only-child::after {width: 0;}#sk-container-id-3 div.sk-dashed-wrapped {border: 1px dashed gray;margin: 0 0.4em 0.5em 0.4em;box-sizing: border-box;padding-bottom: 0.4em;background-color: white;}#sk-container-id-3 div.sk-label label {font-family: monospace;font-weight: bold;display: inline-block;line-height: 1.2em;}#sk-container-id-3 div.sk-label-container {text-align: center;}#sk-container-id-3 div.sk-container {/* jupyter's `normalize.less` sets `[hidden] { display: none; }` but bootstrap.min.css set `[hidden] { display: none !important; }` so we also need the `!important` here to be able to override the default hidden behavior on the sphinx rendered scikit-learn.org. See: https://github.com/scikit-learn/scikit-learn/issues/21755 */display: inline-block !important;position: relative;}#sk-container-id-3 div.sk-text-repr-fallback {display: none;}</style><div id=\"sk-container-id-3\" class=\"sk-top-container\"><div class=\"sk-text-repr-fallback\"><pre>RandomForestRegressor()</pre><b>In a Jupyter environment, please rerun this cell to show the HTML representation or trust the notebook. <br />On GitHub, the HTML representation is unable to render, please try loading this page with nbviewer.org.</b></div><div class=\"sk-container\" hidden><div class=\"sk-item\"><div class=\"sk-estimator sk-toggleable\"><input class=\"sk-toggleable__control sk-hidden--visually\" id=\"sk-estimator-id-3\" type=\"checkbox\" checked><label for=\"sk-estimator-id-3\" class=\"sk-toggleable__label sk-toggleable__label-arrow\">RandomForestRegressor</label><div class=\"sk-toggleable__content\"><pre>RandomForestRegressor()</pre></div></div></div></div></div>"
            ]
          },
          "metadata": {},
          "execution_count": 76
        }
      ],
      "source": [
        "rf_model = RandomForestRegressor()\n",
        "rf_model.fit(X_train, y_train)"
      ]
    },
    {
      "cell_type": "code",
      "execution_count": 77,
      "id": "1693d236-3df4-4a07-8826-706473c7b725",
      "metadata": {
        "id": "1693d236-3df4-4a07-8826-706473c7b725"
      },
      "outputs": [],
      "source": [
        "predictions = rf_model.predict(X_test)"
      ]
    },
    {
      "cell_type": "code",
      "execution_count": 78,
      "id": "e85d84c8-5a88-4bfd-90ca-551561fdeaae",
      "metadata": {
        "colab": {
          "base_uri": "https://localhost:8080/"
        },
        "id": "e85d84c8-5a88-4bfd-90ca-551561fdeaae",
        "outputId": "a9678e78-4327-44f1-dae4-ac7a83f5fcd6"
      },
      "outputs": [
        {
          "output_type": "stream",
          "name": "stdout",
          "text": [
            "Mean Squared Error: 3.096824736298321\n"
          ]
        }
      ],
      "source": [
        "mse = mean_squared_error(y_test, predictions)\n",
        "\n",
        "print(\"Mean Squared Error:\", mse)"
      ]
    },
    {
      "cell_type": "markdown",
      "id": "cfe28ecc-1fe1-4201-bde5-b6ca5181198a",
      "metadata": {
        "id": "cfe28ecc-1fe1-4201-bde5-b6ca5181198a"
      },
      "source": [
        "## Making Random Forest for validation data"
      ]
    },
    {
      "cell_type": "code",
      "execution_count": 79,
      "id": "0c6cf4cc-a0b0-45d6-b1e1-74d406438e7e",
      "metadata": {
        "id": "0c6cf4cc-a0b0-45d6-b1e1-74d406438e7e"
      },
      "outputs": [],
      "source": [
        "X = val_data.drop(columns=['sales_revenue'])\n",
        "y = val_data['sales_revenue']"
      ]
    },
    {
      "cell_type": "code",
      "execution_count": 80,
      "id": "ae8e638b-b0f0-4749-821b-b6aef280d82d",
      "metadata": {
        "id": "ae8e638b-b0f0-4749-821b-b6aef280d82d"
      },
      "outputs": [],
      "source": [
        "import numpy as np\n",
        "X.replace([np.inf, -np.inf], np.nan, inplace=True)"
      ]
    },
    {
      "cell_type": "code",
      "execution_count": 81,
      "id": "abc914e1-4f7d-421a-b40c-d400f5e3ae97",
      "metadata": {
        "id": "abc914e1-4f7d-421a-b40c-d400f5e3ae97"
      },
      "outputs": [],
      "source": [
        "X.dropna(inplace=True)\n",
        "y = y[X.index]"
      ]
    },
    {
      "cell_type": "code",
      "execution_count": 82,
      "id": "a8a669f7-6e0c-4890-8c62-39b456451740",
      "metadata": {
        "id": "a8a669f7-6e0c-4890-8c62-39b456451740"
      },
      "outputs": [],
      "source": [
        "X_train, X_test, y_train, y_test = train_test_split(X, y, test_size=0.2, random_state=42)"
      ]
    },
    {
      "cell_type": "code",
      "execution_count": 83,
      "id": "12106fa5-4112-4807-9409-d09242b70284",
      "metadata": {
        "colab": {
          "base_uri": "https://localhost:8080/",
          "height": 74
        },
        "id": "12106fa5-4112-4807-9409-d09242b70284",
        "outputId": "50679821-f227-43ab-cd0e-04e7cf024ba4"
      },
      "outputs": [
        {
          "output_type": "execute_result",
          "data": {
            "text/plain": [
              "RandomForestRegressor()"
            ],
            "text/html": [
              "<style>#sk-container-id-4 {color: black;background-color: white;}#sk-container-id-4 pre{padding: 0;}#sk-container-id-4 div.sk-toggleable {background-color: white;}#sk-container-id-4 label.sk-toggleable__label {cursor: pointer;display: block;width: 100%;margin-bottom: 0;padding: 0.3em;box-sizing: border-box;text-align: center;}#sk-container-id-4 label.sk-toggleable__label-arrow:before {content: \"▸\";float: left;margin-right: 0.25em;color: #696969;}#sk-container-id-4 label.sk-toggleable__label-arrow:hover:before {color: black;}#sk-container-id-4 div.sk-estimator:hover label.sk-toggleable__label-arrow:before {color: black;}#sk-container-id-4 div.sk-toggleable__content {max-height: 0;max-width: 0;overflow: hidden;text-align: left;background-color: #f0f8ff;}#sk-container-id-4 div.sk-toggleable__content pre {margin: 0.2em;color: black;border-radius: 0.25em;background-color: #f0f8ff;}#sk-container-id-4 input.sk-toggleable__control:checked~div.sk-toggleable__content {max-height: 200px;max-width: 100%;overflow: auto;}#sk-container-id-4 input.sk-toggleable__control:checked~label.sk-toggleable__label-arrow:before {content: \"▾\";}#sk-container-id-4 div.sk-estimator input.sk-toggleable__control:checked~label.sk-toggleable__label {background-color: #d4ebff;}#sk-container-id-4 div.sk-label input.sk-toggleable__control:checked~label.sk-toggleable__label {background-color: #d4ebff;}#sk-container-id-4 input.sk-hidden--visually {border: 0;clip: rect(1px 1px 1px 1px);clip: rect(1px, 1px, 1px, 1px);height: 1px;margin: -1px;overflow: hidden;padding: 0;position: absolute;width: 1px;}#sk-container-id-4 div.sk-estimator {font-family: monospace;background-color: #f0f8ff;border: 1px dotted black;border-radius: 0.25em;box-sizing: border-box;margin-bottom: 0.5em;}#sk-container-id-4 div.sk-estimator:hover {background-color: #d4ebff;}#sk-container-id-4 div.sk-parallel-item::after {content: \"\";width: 100%;border-bottom: 1px solid gray;flex-grow: 1;}#sk-container-id-4 div.sk-label:hover label.sk-toggleable__label {background-color: #d4ebff;}#sk-container-id-4 div.sk-serial::before {content: \"\";position: absolute;border-left: 1px solid gray;box-sizing: border-box;top: 0;bottom: 0;left: 50%;z-index: 0;}#sk-container-id-4 div.sk-serial {display: flex;flex-direction: column;align-items: center;background-color: white;padding-right: 0.2em;padding-left: 0.2em;position: relative;}#sk-container-id-4 div.sk-item {position: relative;z-index: 1;}#sk-container-id-4 div.sk-parallel {display: flex;align-items: stretch;justify-content: center;background-color: white;position: relative;}#sk-container-id-4 div.sk-item::before, #sk-container-id-4 div.sk-parallel-item::before {content: \"\";position: absolute;border-left: 1px solid gray;box-sizing: border-box;top: 0;bottom: 0;left: 50%;z-index: -1;}#sk-container-id-4 div.sk-parallel-item {display: flex;flex-direction: column;z-index: 1;position: relative;background-color: white;}#sk-container-id-4 div.sk-parallel-item:first-child::after {align-self: flex-end;width: 50%;}#sk-container-id-4 div.sk-parallel-item:last-child::after {align-self: flex-start;width: 50%;}#sk-container-id-4 div.sk-parallel-item:only-child::after {width: 0;}#sk-container-id-4 div.sk-dashed-wrapped {border: 1px dashed gray;margin: 0 0.4em 0.5em 0.4em;box-sizing: border-box;padding-bottom: 0.4em;background-color: white;}#sk-container-id-4 div.sk-label label {font-family: monospace;font-weight: bold;display: inline-block;line-height: 1.2em;}#sk-container-id-4 div.sk-label-container {text-align: center;}#sk-container-id-4 div.sk-container {/* jupyter's `normalize.less` sets `[hidden] { display: none; }` but bootstrap.min.css set `[hidden] { display: none !important; }` so we also need the `!important` here to be able to override the default hidden behavior on the sphinx rendered scikit-learn.org. See: https://github.com/scikit-learn/scikit-learn/issues/21755 */display: inline-block !important;position: relative;}#sk-container-id-4 div.sk-text-repr-fallback {display: none;}</style><div id=\"sk-container-id-4\" class=\"sk-top-container\"><div class=\"sk-text-repr-fallback\"><pre>RandomForestRegressor()</pre><b>In a Jupyter environment, please rerun this cell to show the HTML representation or trust the notebook. <br />On GitHub, the HTML representation is unable to render, please try loading this page with nbviewer.org.</b></div><div class=\"sk-container\" hidden><div class=\"sk-item\"><div class=\"sk-estimator sk-toggleable\"><input class=\"sk-toggleable__control sk-hidden--visually\" id=\"sk-estimator-id-4\" type=\"checkbox\" checked><label for=\"sk-estimator-id-4\" class=\"sk-toggleable__label sk-toggleable__label-arrow\">RandomForestRegressor</label><div class=\"sk-toggleable__content\"><pre>RandomForestRegressor()</pre></div></div></div></div></div>"
            ]
          },
          "metadata": {},
          "execution_count": 83
        }
      ],
      "source": [
        "rf_model = RandomForestRegressor()\n",
        "rf_model.fit(X_train, y_train)"
      ]
    },
    {
      "cell_type": "code",
      "execution_count": 84,
      "id": "d3e1be6e-f5eb-45f8-a9f6-f20dca7d2256",
      "metadata": {
        "id": "d3e1be6e-f5eb-45f8-a9f6-f20dca7d2256"
      },
      "outputs": [],
      "source": [
        "predictions = rf_model.predict(X_test)"
      ]
    },
    {
      "cell_type": "code",
      "execution_count": 85,
      "id": "e3e60d0b-e74b-467a-9a83-00dc09550bad",
      "metadata": {
        "colab": {
          "base_uri": "https://localhost:8080/"
        },
        "id": "e3e60d0b-e74b-467a-9a83-00dc09550bad",
        "outputId": "7c088eea-83a9-49a3-f478-b5e78cdb0c4c"
      },
      "outputs": [
        {
          "output_type": "stream",
          "name": "stdout",
          "text": [
            "Mean Squared Error: 3.088206581931827\n"
          ]
        }
      ],
      "source": [
        "mse = mean_squared_error(y_test, predictions)\n",
        "\n",
        "print(\"Mean Squared Error:\", mse)"
      ]
    },
    {
      "cell_type": "code",
      "execution_count": 147,
      "id": "4b67df60-2bfc-44a3-bcc9-be615d31a395",
      "metadata": {
        "id": "4b67df60-2bfc-44a3-bcc9-be615d31a395"
      },
      "outputs": [],
      "source": [
        "import joblib\n",
        "joblib.dump(model, '/content/drive/MyDrive/IIT hackfest/model.pkl')\n",
        "model = joblib.load('/content/drive/MyDrive/IIT hackfest/model.pkl')"
      ]
    },
    {
      "cell_type": "code",
      "source": [
        "import pandas as pd\n",
        "\n",
        "X_external = pd.read_csv('/content/drive/MyDrive/IIT hackfest/test.csv')"
      ],
      "metadata": {
        "id": "KvKINh1tUeh2"
      },
      "id": "KvKINh1tUeh2",
      "execution_count": 150,
      "outputs": []
    },
    {
      "cell_type": "code",
      "source": [
        "X_external.info()"
      ],
      "metadata": {
        "id": "Cf_1rX4cZnsx"
      },
      "id": "Cf_1rX4cZnsx",
      "execution_count": null,
      "outputs": []
    },
    {
      "cell_type": "code",
      "source": [
        "predictions = model.predict(X_external)\n"
      ],
      "metadata": {
        "colab": {
          "base_uri": "https://localhost:8080/",
          "height": 529
        },
        "id": "XTvKk5M3YDCL",
        "outputId": "211c0c27-e8cb-4ef9-ed13-64c55f7405b1"
      },
      "id": "XTvKk5M3YDCL",
      "execution_count": 123,
      "outputs": [
        {
          "output_type": "error",
          "ename": "ValueError",
          "evalue": "The feature names should match those that were passed during fit.\nFeature names unseen at fit time:\n- category_baby products\n- category_baked goods\n- category_baking\n- category_beverages\n- category_canned foods\n- ...\nFeature names seen at fit time, yet now missing:\n- product_category_category_baby products\n- product_category_category_baked goods\n- product_category_category_baking\n- product_category_category_beverages\n- product_category_category_canned foods\n- ...\n",
          "traceback": [
            "\u001b[0;31m---------------------------------------------------------------------------\u001b[0m",
            "\u001b[0;31mValueError\u001b[0m                                Traceback (most recent call last)",
            "\u001b[0;32m<ipython-input-123-9633581b337c>\u001b[0m in \u001b[0;36m<cell line: 1>\u001b[0;34m()\u001b[0m\n\u001b[0;32m----> 1\u001b[0;31m \u001b[0mpredictions\u001b[0m \u001b[0;34m=\u001b[0m \u001b[0mmodel\u001b[0m\u001b[0;34m.\u001b[0m\u001b[0mpredict\u001b[0m\u001b[0;34m(\u001b[0m\u001b[0mX_external\u001b[0m\u001b[0;34m)\u001b[0m\u001b[0;34m\u001b[0m\u001b[0;34m\u001b[0m\u001b[0m\n\u001b[0m",
            "\u001b[0;32m/usr/local/lib/python3.10/dist-packages/sklearn/ensemble/_forest.py\u001b[0m in \u001b[0;36mpredict\u001b[0;34m(self, X)\u001b[0m\n\u001b[1;32m    979\u001b[0m         \u001b[0mcheck_is_fitted\u001b[0m\u001b[0;34m(\u001b[0m\u001b[0mself\u001b[0m\u001b[0;34m)\u001b[0m\u001b[0;34m\u001b[0m\u001b[0;34m\u001b[0m\u001b[0m\n\u001b[1;32m    980\u001b[0m         \u001b[0;31m# Check data\u001b[0m\u001b[0;34m\u001b[0m\u001b[0;34m\u001b[0m\u001b[0m\n\u001b[0;32m--> 981\u001b[0;31m         \u001b[0mX\u001b[0m \u001b[0;34m=\u001b[0m \u001b[0mself\u001b[0m\u001b[0;34m.\u001b[0m\u001b[0m_validate_X_predict\u001b[0m\u001b[0;34m(\u001b[0m\u001b[0mX\u001b[0m\u001b[0;34m)\u001b[0m\u001b[0;34m\u001b[0m\u001b[0;34m\u001b[0m\u001b[0m\n\u001b[0m\u001b[1;32m    982\u001b[0m \u001b[0;34m\u001b[0m\u001b[0m\n\u001b[1;32m    983\u001b[0m         \u001b[0;31m# Assign chunk of trees to jobs\u001b[0m\u001b[0;34m\u001b[0m\u001b[0;34m\u001b[0m\u001b[0m\n",
            "\u001b[0;32m/usr/local/lib/python3.10/dist-packages/sklearn/ensemble/_forest.py\u001b[0m in \u001b[0;36m_validate_X_predict\u001b[0;34m(self, X)\u001b[0m\n\u001b[1;32m    600\u001b[0m         Validate X whenever one tries to predict, apply, predict_proba.\"\"\"\n\u001b[1;32m    601\u001b[0m         \u001b[0mcheck_is_fitted\u001b[0m\u001b[0;34m(\u001b[0m\u001b[0mself\u001b[0m\u001b[0;34m)\u001b[0m\u001b[0;34m\u001b[0m\u001b[0;34m\u001b[0m\u001b[0m\n\u001b[0;32m--> 602\u001b[0;31m         \u001b[0mX\u001b[0m \u001b[0;34m=\u001b[0m \u001b[0mself\u001b[0m\u001b[0;34m.\u001b[0m\u001b[0m_validate_data\u001b[0m\u001b[0;34m(\u001b[0m\u001b[0mX\u001b[0m\u001b[0;34m,\u001b[0m \u001b[0mdtype\u001b[0m\u001b[0;34m=\u001b[0m\u001b[0mDTYPE\u001b[0m\u001b[0;34m,\u001b[0m \u001b[0maccept_sparse\u001b[0m\u001b[0;34m=\u001b[0m\u001b[0;34m\"csr\"\u001b[0m\u001b[0;34m,\u001b[0m \u001b[0mreset\u001b[0m\u001b[0;34m=\u001b[0m\u001b[0;32mFalse\u001b[0m\u001b[0;34m)\u001b[0m\u001b[0;34m\u001b[0m\u001b[0;34m\u001b[0m\u001b[0m\n\u001b[0m\u001b[1;32m    603\u001b[0m         \u001b[0;32mif\u001b[0m \u001b[0missparse\u001b[0m\u001b[0;34m(\u001b[0m\u001b[0mX\u001b[0m\u001b[0;34m)\u001b[0m \u001b[0;32mand\u001b[0m \u001b[0;34m(\u001b[0m\u001b[0mX\u001b[0m\u001b[0;34m.\u001b[0m\u001b[0mindices\u001b[0m\u001b[0;34m.\u001b[0m\u001b[0mdtype\u001b[0m \u001b[0;34m!=\u001b[0m \u001b[0mnp\u001b[0m\u001b[0;34m.\u001b[0m\u001b[0mintc\u001b[0m \u001b[0;32mor\u001b[0m \u001b[0mX\u001b[0m\u001b[0;34m.\u001b[0m\u001b[0mindptr\u001b[0m\u001b[0;34m.\u001b[0m\u001b[0mdtype\u001b[0m \u001b[0;34m!=\u001b[0m \u001b[0mnp\u001b[0m\u001b[0;34m.\u001b[0m\u001b[0mintc\u001b[0m\u001b[0;34m)\u001b[0m\u001b[0;34m:\u001b[0m\u001b[0;34m\u001b[0m\u001b[0;34m\u001b[0m\u001b[0m\n\u001b[1;32m    604\u001b[0m             \u001b[0;32mraise\u001b[0m \u001b[0mValueError\u001b[0m\u001b[0;34m(\u001b[0m\u001b[0;34m\"No support for np.int64 index based sparse matrices\"\u001b[0m\u001b[0;34m)\u001b[0m\u001b[0;34m\u001b[0m\u001b[0;34m\u001b[0m\u001b[0m\n",
            "\u001b[0;32m/usr/local/lib/python3.10/dist-packages/sklearn/base.py\u001b[0m in \u001b[0;36m_validate_data\u001b[0;34m(self, X, y, reset, validate_separately, **check_params)\u001b[0m\n\u001b[1;32m    546\u001b[0m             \u001b[0mvalidated\u001b[0m\u001b[0;34m.\u001b[0m\u001b[0;34m\u001b[0m\u001b[0;34m\u001b[0m\u001b[0m\n\u001b[1;32m    547\u001b[0m         \"\"\"\n\u001b[0;32m--> 548\u001b[0;31m         \u001b[0mself\u001b[0m\u001b[0;34m.\u001b[0m\u001b[0m_check_feature_names\u001b[0m\u001b[0;34m(\u001b[0m\u001b[0mX\u001b[0m\u001b[0;34m,\u001b[0m \u001b[0mreset\u001b[0m\u001b[0;34m=\u001b[0m\u001b[0mreset\u001b[0m\u001b[0;34m)\u001b[0m\u001b[0;34m\u001b[0m\u001b[0;34m\u001b[0m\u001b[0m\n\u001b[0m\u001b[1;32m    549\u001b[0m \u001b[0;34m\u001b[0m\u001b[0m\n\u001b[1;32m    550\u001b[0m         \u001b[0;32mif\u001b[0m \u001b[0my\u001b[0m \u001b[0;32mis\u001b[0m \u001b[0;32mNone\u001b[0m \u001b[0;32mand\u001b[0m \u001b[0mself\u001b[0m\u001b[0;34m.\u001b[0m\u001b[0m_get_tags\u001b[0m\u001b[0;34m(\u001b[0m\u001b[0;34m)\u001b[0m\u001b[0;34m[\u001b[0m\u001b[0;34m\"requires_y\"\u001b[0m\u001b[0;34m]\u001b[0m\u001b[0;34m:\u001b[0m\u001b[0;34m\u001b[0m\u001b[0;34m\u001b[0m\u001b[0m\n",
            "\u001b[0;32m/usr/local/lib/python3.10/dist-packages/sklearn/base.py\u001b[0m in \u001b[0;36m_check_feature_names\u001b[0;34m(self, X, reset)\u001b[0m\n\u001b[1;32m    479\u001b[0m                 )\n\u001b[1;32m    480\u001b[0m \u001b[0;34m\u001b[0m\u001b[0m\n\u001b[0;32m--> 481\u001b[0;31m             \u001b[0;32mraise\u001b[0m \u001b[0mValueError\u001b[0m\u001b[0;34m(\u001b[0m\u001b[0mmessage\u001b[0m\u001b[0;34m)\u001b[0m\u001b[0;34m\u001b[0m\u001b[0;34m\u001b[0m\u001b[0m\n\u001b[0m\u001b[1;32m    482\u001b[0m \u001b[0;34m\u001b[0m\u001b[0m\n\u001b[1;32m    483\u001b[0m     def _validate_data(\n",
            "\u001b[0;31mValueError\u001b[0m: The feature names should match those that were passed during fit.\nFeature names unseen at fit time:\n- category_baby products\n- category_baked goods\n- category_baking\n- category_beverages\n- category_canned foods\n- ...\nFeature names seen at fit time, yet now missing:\n- product_category_category_baby products\n- product_category_category_baked goods\n- product_category_category_baking\n- product_category_category_beverages\n- product_category_category_canned foods\n- ...\n"
          ]
        }
      ]
    },
    {
      "cell_type": "code",
      "source": [
        "# Get the column names of the training data\n",
        "training_features = X_train.columns\n",
        "\n",
        "# Get the column names of the external data\n",
        "external_features = X_external.columns\n",
        "\n",
        "# Compare the two sets of column names\n",
        "missing_features = set(training_features) - set(external_features)\n",
        "extra_features = set(external_features) - set(training_features)\n",
        "\n",
        "# Print the missing and extra features\n",
        "print(\"Missing features:\", missing_features)\n",
        "print(\"Extra features:\", extra_features)"
      ],
      "metadata": {
        "colab": {
          "base_uri": "https://localhost:8080/"
        },
        "id": "5Uphr0qOVjlu",
        "outputId": "5aee0d5e-5101-4ebc-f221-0eaa0a1a9984"
      },
      "id": "5Uphr0qOVjlu",
      "execution_count": 117,
      "outputs": [
        {
          "output_type": "stream",
          "name": "stdout",
          "text": [
            "Missing features: {'product_category_category_kitchen', 'product_category_category_canned foods', 'product_category_category_cheese', 'product_category_category_seafood', 'product_category_category_beverages', 'product_category_category_cleaning products', 'product_category_category_dairy', 'product_category_category_meat', 'product_category_category_fruit', 'product_category_category_packaged foods', 'product_category_category_baking', 'product_category_category_personal care', 'product_category_category_pets', 'product_category_category_vegetables', 'product_category_category_refrigerated items', 'product_category_category_frozen', 'product_category_category_condiments and sauces', 'product_category_category_snacks', 'product_category_category_spices and herbs', 'product_category_category_medicine', 'product_category_category_baby products', 'product_category_category_baked goods'}\n",
            "Extra features: {'category_dairy', 'category_baking', 'sales_revenue', 'category_pets', 'timestamp', 'category_kitchen', 'category_refrigerated items', 'category_baked goods', 'category_seafood', 'category_medicine', 'category_canned foods', 'category_fruit', 'category_personal care', 'product_category', 'category_frozen', 'category_condiments and sauces', 'category_cleaning products', 'category_beverages', 'category_meat', 'category_packaged foods', 'category_cheese', 'category_baby products', 'category_vegetables', 'category_snacks', 'category_spices and herbs'}\n"
          ]
        }
      ]
    },
    {
      "cell_type": "code",
      "source": [
        "import pandas as pd\n",
        "import matplotlib.pyplot as plt\n",
        "\n",
        "\n",
        "plt.figure(figsize=(8, 6))\n",
        "plt.scatter(y_test, predictions, alpha=0.6)\n",
        "plt.plot([min(y_test), max(y_test)], [min(y_test), max(y_test)], 'r--')  # Diagonal line\n",
        "plt.xlabel(\"True Values\")\n",
        "plt.ylabel(\"Predictions\")\n",
        "plt.title(\"Predictions(external dataset) vs. True Values\")\n",
        "plt.show()\n"
      ],
      "metadata": {
        "colab": {
          "base_uri": "https://localhost:8080/",
          "height": 564
        },
        "id": "2QYXziimVrj0",
        "outputId": "d7a4d1d0-86a0-4892-ff45-48a518bee07f"
      },
      "id": "2QYXziimVrj0",
      "execution_count": 110,
      "outputs": [
        {
          "output_type": "display_data",
          "data": {
            "text/plain": [
              "<Figure size 800x600 with 1 Axes>"
            ],
            "image/png": "[encoded data removed]"
          },
          "metadata": {}
        }
      ]
    }
  ],
  "metadata": {
    "kernelspec": {
      "display_name": "Python 3 (ipykernel)",
      "language": "python",
      "name": "python3"
    },
    "language_info": {
      "codemirror_mode": {
        "name": "ipython",
        "version": 3
      },
      "file_extension": ".py",
      "mimetype": "text/x-python",
      "name": "python",
      "nbconvert_exporter": "python",
      "pygments_lexer": "ipython3",
      "version": "3.11.7"
    },
    "colab": {
      "provenance": []
    }
  },
  "nbformat": 4,
  "nbformat_minor": 5
}